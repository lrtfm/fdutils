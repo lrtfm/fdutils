{
 "cells": [
  {
   "cell_type": "markdown",
   "id": "571073a9-879a-4ace-9a9d-11ef5ae129e9",
   "metadata": {},
   "source": [
    "# Test pointcloud"
   ]
  },
  {
   "cell_type": "code",
   "execution_count": 1,
   "id": "a0882a2b-0cbd-42ee-b4ef-9a06a6cc2b0a",
   "metadata": {},
   "outputs": [
    {
     "name": "stderr",
     "output_type": "stream",
     "text": [
      "firedrake:WARNING OMP_NUM_THREADS is not set or is set to a value greater than 1, we suggest setting OMP_NUM_THREADS=1 to improve performance\n"
     ]
    }
   ],
   "source": [
    "from fdutils import tools\n",
    "\n",
    "# import importlib\n",
    "\n",
    "# tools = importlib.reload(tools)\n",
    "# fdutils = importlib.reload(fdutils)"
   ]
  },
  {
   "cell_type": "code",
   "execution_count": 2,
   "id": "acadc267-e67f-4fb6-ae23-0bb65d711b3d",
   "metadata": {
    "tags": []
   },
   "outputs": [],
   "source": [
    "from firedrake.utility_meshes import UnitSquareMesh\n",
    "from firedrake.functionspace import FunctionSpace, VectorFunctionSpace\n",
    "from firedrake.function import Function\n",
    "\n",
    "from ufl.geometry import SpatialCoordinate \n",
    "\n",
    "def get_fun(n, degree=None, fun=None):\n",
    "    degree = degree or 2\n",
    "    fun = fun or (lambda x: x[0]**4 + x[1]**4)\n",
    "\n",
    "    quadrilateral=False\n",
    "    m = UnitSquareMesh(n, n, quadrilateral=quadrilateral)\n",
    "    V = FunctionSpace(m, 'CG', degree)\n",
    "    f = Function(V)\n",
    "    x = SpatialCoordinate(m)\n",
    "    f.interpolate(fun(x))\n",
    "    \n",
    "    return f\n",
    "\n",
    "def get_fun_kvm(n, degree=None, fun=None):\n",
    "    degree = degree or 2\n",
    "    fun = fun or (lambda x: x[0]**4 + x[1]**4)\n",
    "\n",
    "    quadrilateral=False\n",
    "    m = UnitSquareMesh(n, n, quadrilateral=quadrilateral)\n",
    "    V = FunctionSpace(m, 'KMV', degree)\n",
    "    f = Function(V)\n",
    "    x = SpatialCoordinate(m)\n",
    "    f.interpolate(fun(x))\n",
    "    \n",
    "    return f\n",
    "\n",
    "n = 5\n",
    "fs_ = [get_fun(2**(_+1)) for _ in range(n)]\n",
    "fs = [get_fun_kvm(2**(_+1)) for _ in range(n)]\n"
   ]
  },
  {
   "cell_type": "code",
   "execution_count": 3,
   "id": "c0564992-aeff-4830-9ef1-49c9b7995163",
   "metadata": {},
   "outputs": [],
   "source": [
    "error_handles = {}\n",
    "\n",
    "for method in ['at', 'pc']:\n",
    "    for comp in ['Cauchy', 'Reference']:\n",
    "        error_handles[method + comp] = \\\n",
    "            tools.prepare_errornorm_handle(fs, tolerance=1e-10, eval_method=method, compare_method=comp)\n",
    "\n",
    "errs = {}\n",
    "for name, handle in error_handles.items():\n",
    "    errs[name] = handle()"
   ]
  },
  {
   "cell_type": "code",
   "execution_count": 5,
   "id": "453ef60c-52b7-425b-bd1c-1baeda39126b",
   "metadata": {},
   "outputs": [
    {
     "data": {
      "text/plain": [
       "{'atCauchy': [0.008594495659314444,\n",
       "  0.001114545136756416,\n",
       "  0.00014054731364569325,\n",
       "  1.7606616315425073e-05],\n",
       " 'atReference': [0.008672118609378433,\n",
       "  0.0011236454233559652,\n",
       "  0.00014164994703833362,\n",
       "  1.7606616315425073e-05],\n",
       " 'pcCauchy': [0.008594495659314453,\n",
       "  0.0011145451367564141,\n",
       "  0.00014054731364569612,\n",
       "  1.7606616315425382e-05],\n",
       " 'pcReference': [0.008672118609378431,\n",
       "  0.0011236454233559672,\n",
       "  0.0001416499470383321,\n",
       "  1.7606616315425382e-05]}"
      ]
     },
     "execution_count": 5,
     "metadata": {},
     "output_type": "execute_result"
    }
   ],
   "source": [
    "errs"
   ]
  }
 ],
 "metadata": {
  "kernelspec": {
   "display_name": "Python 3 (ipykernel)",
   "language": "python",
   "name": "python3"
  },
  "language_info": {
   "codemirror_mode": {
    "name": "ipython",
    "version": 3
   },
   "file_extension": ".py",
   "mimetype": "text/x-python",
   "name": "python",
   "nbconvert_exporter": "python",
   "pygments_lexer": "ipython3",
   "version": "3.8.5"
  }
 },
 "nbformat": 4,
 "nbformat_minor": 5
}
