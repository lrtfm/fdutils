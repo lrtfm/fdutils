{
 "cells": [
  {
   "cell_type": "markdown",
   "id": "571073a9-879a-4ace-9a9d-11ef5ae129e9",
   "metadata": {},
   "source": [
    "# Test pointcloud"
   ]
  },
  {
   "cell_type": "code",
   "execution_count": 7,
   "id": "7af8449c-7f78-44df-96b9-98ca2c0b0843",
   "metadata": {},
   "outputs": [],
   "source": []
  },
  {
   "cell_type": "code",
   "execution_count": 1,
   "id": "d4cc0f6d-122f-4e8e-9fee-bbce92ec72dc",
   "metadata": {},
   "outputs": [
    {
     "name": "stderr",
     "output_type": "stream",
     "text": [
      "firedrake:WARNING OMP_NUM_THREADS is not set or is set to a value greater than 1, we suggest setting OMP_NUM_THREADS=1 to improve performance\n"
     ]
    }
   ],
   "source": [
    "import pytest\n",
    "import numpy as np\n",
    "from firedrake import *\n",
    "from firedrake import parloops\n",
    "\n",
    "from peval.pointcloud import PointCloud\n",
    "\n",
    "\n",
    "import matplotlib.pyplot as plt\n",
    "\n",
    "# logging.set_level(logging.DEBUG)\n",
    "\n",
    "# disable the warning message of loopy\n",
    "parloops.LOOPY_USE_LANGUAGE_VERSION_2018_2 = parloops.loopy.version.LOOPY_USE_LANGUAGE_VERSION_2018_2\n",
    "\n",
    "m = UnitSquareMesh(16, 16, quadrilateral=True)\n",
    "x = SpatialCoordinate(m)\n",
    "\n",
    "Vv = VectorFunctionSpace(m, 'CG', 5)\n",
    "fv = Function(Vv)\n",
    "fv.interpolate(as_vector([x[0]**2, x[1]**2]))\n",
    "\n",
    "\n",
    "# m.topology_dm.view()\n",
    "m_ref = UnitSquareMesh(32, 32, quadrilateral=True)\n",
    "Vv_ref = VectorFunctionSpace(m_ref, 'CG', 5)\n",
    "\n",
    "\n",
    "coords_ref = Function(Vv_ref)\n",
    "coords_ref.interpolate(m_ref.coordinates)\n",
    "\n",
    "tol = 1e-14\n",
    "coords_ref = coords_ref.dat.data\n",
    "coords_ref[coords_ref[:, 1] > 1 - tol, 1] = 1 - tol\n",
    "coords_ref[coords_ref[:, 0] > 1 - tol, 0] = 1 - tol\n",
    "\n",
    "vm = VertexOnlyMesh(m, coords_ref)\n",
    "W = VectorFunctionSpace(vm, \"DG\", 0)\n",
    "f = interpolate(fv, W)\n",
    "\n",
    "pc = PointCloud(m, coords_ref)\n",
    "v = pc.evaluate(fv)\n",
    "fv_ref = Function(Vv_ref)\n",
    "fv_ref.dat.data[:] = v\n",
    "\n",
    "# tricontourf(fv)\n",
    "# tricontourf(fv_ref)\n",
    "\n"
   ]
  },
  {
   "cell_type": "code",
   "execution_count": 2,
   "id": "acadc267-e67f-4fb6-ae23-0bb65d711b3d",
   "metadata": {},
   "outputs": [],
   "source": [
    "from firedrake.utility_meshes import UnitSquareMesh\n",
    "from firedrake.functionspace import FunctionSpace, VectorFunctionSpace\n",
    "from firedrake.function import Function\n",
    "\n",
    "from ufl.geometry import SpatialCoordinate \n",
    "\n",
    "def get_fun(n, degree=None, fun=None):\n",
    "    degree = degree or 2\n",
    "    fun = fun or (lambda x: x[0]**4 + x[1]**4)\n",
    "\n",
    "    quadrilateral=False\n",
    "    m = UnitSquareMesh(n, n, quadrilateral=quadrilateral)\n",
    "    V = FunctionSpace(m, 'CG', degree)\n",
    "    f = Function(V)\n",
    "    x = SpatialCoordinate(m)\n",
    "    f.interpolate(fun(x))\n",
    "    \n",
    "    return f\n",
    "\n",
    "def get_fun_kvm(n, degree=None, fun=None):\n",
    "    degree = degree or 2\n",
    "    fun = fun or (lambda x: x[0]**4 + x[1]**4)\n",
    "\n",
    "    quadrilateral=False\n",
    "    m = UnitSquareMesh(n, n, quadrilateral=quadrilateral)\n",
    "    V = FunctionSpace(m, 'KMV', degree)\n",
    "    f = Function(V)\n",
    "    x = SpatialCoordinate(m)\n",
    "    f.interpolate(fun(x))\n",
    "    \n",
    "    return f"
   ]
  },
  {
   "cell_type": "code",
   "execution_count": 34,
   "id": "cc5f11b8-e857-4af7-94d0-fd649ca4dbc2",
   "metadata": {},
   "outputs": [],
   "source": [
    "from firedrake.functionspace import FunctionSpace, VectorFunctionSpace\n",
    "from firedrake.function import Function\n",
    "from firedrake.norms import errornorm\n",
    "from firedrake.mesh import VertexOnlyMesh\n",
    "\n",
    "from peval import PointCloud\n",
    "\n",
    "def get_nodes_coords(fun):\n",
    "    ''' Get the coords of the dofs of Function fun or Space'''\n",
    "\n",
    "    mesh = fun.ufl_domain()\n",
    "    element = fun.ufl_element()\n",
    "    \n",
    "    assert(element.family() == 'Lagrange')\n",
    "\n",
    "    degree = element.degree()\n",
    "    if degree == 1:\n",
    "        coords = mesh.coordinates.dat.data\n",
    "    else:\n",
    "        C = VectorFunctionSpace(mesh, 'CG', degree)\n",
    "        interp_coordinates = Function(C)\n",
    "        interp_coordinates.interpolate(mesh.coordinates)\n",
    "        coords = interp_coordinates.dat.data\n",
    "\n",
    "    return coords\n",
    "\n",
    "def get_common_function_space(u, u_ref):\n",
    "    '''Get the CG space for compute errors of u and u_ref\n",
    "    '''\n",
    "    element = u.ufl_element()\n",
    "    element_ref = u_ref.ufl_element()\n",
    "    assert(element == element_ref)\n",
    "    \n",
    "    if element.family() == 'Lagrange':\n",
    "        V_inter = u_ref.ufl_function_space()\n",
    "        return V_inter, False\n",
    "    \n",
    "    mesh = u_ref.ufl_domain()\n",
    "    V = u_ref.ufl_function_space()\n",
    "    degree = element_ref.degree() + 2 # may be just add 2?\n",
    "    if V.rank == 1:\n",
    "        V_inter = VectorFunctionSpace(mesh, 'CG', degree=degree, dim=element_ref.value_size())\n",
    "    elif V.rank == 0:\n",
    "        V_inter = FunctionSpace(mesh, 'CG', degree=degree)\n",
    "    else:\n",
    "        raise NotImplementedError('Do not support space with rank > 1')\n",
    "        \n",
    "    return V_inter, True\n",
    "\n",
    "def get_pointclouds(u, u_ref, tolerance):\n",
    "    V_inter, need_inter_u_ref = get_common_function_space(u, u_ref)\n",
    "    coords = get_nodes_coords(V_inter)\n",
    "    u_inter = Function(V_inter)\n",
    "    \n",
    "    pc = PointCloud(u.ufl_domain(), coords, tolerance=tolerance)\n",
    "    \n",
    "    if need_inter_u_ref:\n",
    "        pc_ref = PointCloud(u_ref.ufl_domain(), coords, tolerance=tolerance)\n",
    "        u_ref_inter = Function(V_inter)\n",
    "    else:\n",
    "        pc_ref = None\n",
    "        u_ref_inter = None\n",
    "    \n",
    "    return pc, pc_ref, u_inter, u_ref_inter\n",
    "\n",
    "\n",
    "def compute_errors_pc(u, u_ref, assistant=None, tolerance=None, norm_type=\"L2\"):\n",
    "    if assistant is None:\n",
    "        pc, pc_ref, u_inter, u_ref_inter = get_pointclouds(u, u_ref, tolerance)\n",
    "    else:\n",
    "        pc, pc_ref, u_inter, u_ref_inter = assistant\n",
    "        \n",
    "    u_inter.dat.data[:] = pc.evaluate(u)\n",
    "\n",
    "    if pc_ref is not None:\n",
    "        u_ref_inter.dat.data[:] = pc_ref.evaluate(u_ref)\n",
    "    else:\n",
    "        u_ref_inter = u_ref\n",
    "        \n",
    "    return errornorm(u_ref_inter, u_inter, norm_type=norm_type)"
   ]
  },
  {
   "cell_type": "code",
   "execution_count": 31,
   "id": "c0564992-aeff-4830-9ef1-49c9b7995163",
   "metadata": {},
   "outputs": [],
   "source": [
    "n = 5\n",
    "fs_ = [get_fun(2**(_+1)) for _ in range(n)]\n",
    "fs = [get_fun_kvm(2**(_+1)) for _ in range(n)]\n",
    "\n",
    "errs = [compute_errors_pc(fs_[_], fs_[_+1], tolerance=1e-10) for _ in range(n-1)]\n",
    "errs\n",
    "\n",
    "errs2 = [compute_errors_pc(fs[_], fs[_+1], tolerance=1e-10) for _ in range(n-1)]\n",
    "errs2"
   ]
  },
  {
   "cell_type": "code",
   "execution_count": 35,
   "id": "6a60cf70-e363-43e1-a73b-a187fe71c8c9",
   "metadata": {},
   "outputs": [
    {
     "data": {
      "text/plain": [
       "0"
      ]
     },
     "execution_count": 35,
     "metadata": {},
     "output_type": "execute_result"
    }
   ],
   "source": [
    "f.comm.b"
   ]
  },
  {
   "cell_type": "code",
   "execution_count": 36,
   "id": "a1ce6078-2cf3-42df-b3a4-616620806d69",
   "metadata": {},
   "outputs": [
    {
     "data": {
      "text/plain": [
       "1"
      ]
     },
     "execution_count": 36,
     "metadata": {},
     "output_type": "execute_result"
    }
   ],
   "source": [
    "f.comm.size"
   ]
  },
  {
   "cell_type": "code",
   "execution_count": 29,
   "id": "2bec7e6c-7c61-4b2d-83db-6236fb013457",
   "metadata": {},
   "outputs": [
    {
     "name": "stdout",
     "output_type": "stream",
     "text": [
      "> \u001b[0;32m<ipython-input-28-6a7a3264e47e>\u001b[0m(1)\u001b[0;36m<module>\u001b[0;34m()\u001b[0m\n",
      "\u001b[0;32m----> 1 \u001b[0;31m\u001b[0mpoint\u001b[0m\u001b[0;34m\u001b[0m\u001b[0;34m\u001b[0m\u001b[0m\n",
      "\u001b[0m\n"
     ]
    },
    {
     "name": "stdin",
     "output_type": "stream",
     "text": [
      "ipdb>  up\n"
     ]
    },
    {
     "name": "stdout",
     "output_type": "stream",
     "text": [
      "*** Oldest frame\n"
     ]
    },
    {
     "name": "stdin",
     "output_type": "stream",
     "text": [
      "ipdb>  up\n"
     ]
    },
    {
     "name": "stdout",
     "output_type": "stream",
     "text": [
      "*** Oldest frame\n"
     ]
    },
    {
     "name": "stdin",
     "output_type": "stream",
     "text": [
      "ipdb>  exit\n"
     ]
    }
   ],
   "source": [
    "%debug"
   ]
  },
  {
   "cell_type": "markdown",
   "id": "9deb6a7c-89f3-4fd0-9e9e-d86a14830400",
   "metadata": {},
   "source": [
    "# Test VertexOnlyMesh"
   ]
  },
  {
   "cell_type": "code",
   "execution_count": 14,
   "id": "9922647d-581b-4bfc-a37d-2b38905c84dd",
   "metadata": {},
   "outputs": [
    {
     "name": "stdout",
     "output_type": "stream",
     "text": [
      "Test with quadrilateral=False\n",
      "\tThere are 289 points\n",
      "\tThere are 289 dofs in space W\n",
      "Test with quadrilateral=True\n",
      "\tThere are 289 points\n",
      "\tThere are 256 dofs in space W\n"
     ]
    },
    {
     "data": {
      "text/plain": [
       "(Mesh(VectorElement(FiniteElement('Q', quadrilateral, 1), dim=2), 83),\n",
       " Mesh(VectorElement(FiniteElement('Q', quadrilateral, 1), dim=2), 84))"
      ]
     },
     "execution_count": 14,
     "metadata": {},
     "output_type": "execute_result"
    }
   ],
   "source": [
    "from firedrake import *\n",
    "# logging.set_level(logging.DEBUG)\n",
    "def test_vom(n1=8, n2=16, quadrilateral=False):\n",
    "    m = UnitSquareMesh(n1, n1, quadrilateral=quadrilateral)\n",
    "    m_ref = UnitSquareMesh(n2, n2, quadrilateral=quadrilateral)\n",
    "    coords_ref = m_ref.coordinates.dat.data_ro.copy()\n",
    "    \n",
    "    # make sure they are in the domain\n",
    "#     tol = 1e-14\n",
    "#     coords_ref[coords_ref[:, 1] > 1 - tol, 1] = 1 - tol\n",
    "#     coords_ref[coords_ref[:, 0] > 1 - tol, 0] = 1 - tol\n",
    "    \n",
    "    vm = VertexOnlyMesh(m, coords_ref)\n",
    "    W = FunctionSpace(vm, \"DG\", 0)\n",
    "    print('\\tThere are %d points'%len(coords_ref))\n",
    "    print('\\tThere are %d dofs in space W'%W.dof_count)\n",
    "    return m, m_ref\n",
    "\n",
    "print('Test with quadrilateral=False')\n",
    "test_vom(n1=8, n2=16, quadrilateral=False)\n",
    "print('Test with quadrilateral=True')\n",
    "test_vom(n1=8, n2=16, quadrilateral=True)\n",
    "# print('Test with larger n1 and quadrilateral=False')\n",
    "# test_vom(n1=10, n2=16, quadrilateral=False)"
   ]
  }
 ],
 "metadata": {
  "kernelspec": {
   "display_name": "Python 3",
   "language": "python",
   "name": "python3"
  },
  "language_info": {
   "codemirror_mode": {
    "name": "ipython",
    "version": 3
   },
   "file_extension": ".py",
   "mimetype": "text/x-python",
   "name": "python",
   "nbconvert_exporter": "python",
   "pygments_lexer": "ipython3",
   "version": "3.8.5"
  }
 },
 "nbformat": 4,
 "nbformat_minor": 5
}
